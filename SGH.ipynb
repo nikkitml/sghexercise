{
 "cells": [
  {
   "cell_type": "code",
   "execution_count": 1,
   "id": "1dbc28b2",
   "metadata": {},
   "outputs": [],
   "source": [
    "import pandas as pd"
   ]
  },
  {
   "cell_type": "markdown",
   "id": "71081c90",
   "metadata": {},
   "source": [
    "# Load Data"
   ]
  },
  {
   "cell_type": "code",
   "execution_count": 36,
   "id": "450f6c1e",
   "metadata": {},
   "outputs": [],
   "source": [
    "inc = pd.read_csv(\"malaria_inc.csv\")\n",
    "deathsage = pd.read_csv(\"malaria_deaths_age.csv\")\n",
    "deaths = pd.read_csv(\"malaria_deaths.csv\")\n",
    "deathsage = deathsage.iloc[: , 1:]"
   ]
  },
  {
   "cell_type": "code",
   "execution_count": 37,
   "id": "da0b488b",
   "metadata": {},
   "outputs": [],
   "source": [
    "inc.columns = [\"Entity\", \"Code\", \"Year\", \"Incidence of malaria\"]\n",
    "deathsage.columns = [\"Entity\", \"Code\", \"Year\", \"Age Group\", \"Deaths\"]\n",
    "deaths.columns = [\"Entity\", \"Code\", \"Year\", \"Deaths per 100K\"]"
   ]
  },
  {
   "cell_type": "code",
   "execution_count": 38,
   "id": "b6b2af1a",
   "metadata": {},
   "outputs": [
    {
     "data": {
      "text/html": [
       "<div>\n",
       "<style scoped>\n",
       "    .dataframe tbody tr th:only-of-type {\n",
       "        vertical-align: middle;\n",
       "    }\n",
       "\n",
       "    .dataframe tbody tr th {\n",
       "        vertical-align: top;\n",
       "    }\n",
       "\n",
       "    .dataframe thead th {\n",
       "        text-align: right;\n",
       "    }\n",
       "</style>\n",
       "<table border=\"1\" class=\"dataframe\">\n",
       "  <thead>\n",
       "    <tr style=\"text-align: right;\">\n",
       "      <th></th>\n",
       "      <th>Entity</th>\n",
       "      <th>Code</th>\n",
       "      <th>Year</th>\n",
       "      <th>Incidence of malaria</th>\n",
       "    </tr>\n",
       "  </thead>\n",
       "  <tbody>\n",
       "    <tr>\n",
       "      <th>0</th>\n",
       "      <td>Afghanistan</td>\n",
       "      <td>AFG</td>\n",
       "      <td>2000</td>\n",
       "      <td>107.100000</td>\n",
       "    </tr>\n",
       "    <tr>\n",
       "      <th>1</th>\n",
       "      <td>Afghanistan</td>\n",
       "      <td>AFG</td>\n",
       "      <td>2005</td>\n",
       "      <td>46.500000</td>\n",
       "    </tr>\n",
       "    <tr>\n",
       "      <th>2</th>\n",
       "      <td>Afghanistan</td>\n",
       "      <td>AFG</td>\n",
       "      <td>2010</td>\n",
       "      <td>23.900000</td>\n",
       "    </tr>\n",
       "    <tr>\n",
       "      <th>3</th>\n",
       "      <td>Afghanistan</td>\n",
       "      <td>AFG</td>\n",
       "      <td>2015</td>\n",
       "      <td>23.600000</td>\n",
       "    </tr>\n",
       "    <tr>\n",
       "      <th>4</th>\n",
       "      <td>Algeria</td>\n",
       "      <td>DZA</td>\n",
       "      <td>2000</td>\n",
       "      <td>0.037746</td>\n",
       "    </tr>\n",
       "  </tbody>\n",
       "</table>\n",
       "</div>"
      ],
      "text/plain": [
       "        Entity Code  Year  Incidence of malaria\n",
       "0  Afghanistan  AFG  2000            107.100000\n",
       "1  Afghanistan  AFG  2005             46.500000\n",
       "2  Afghanistan  AFG  2010             23.900000\n",
       "3  Afghanistan  AFG  2015             23.600000\n",
       "4      Algeria  DZA  2000              0.037746"
      ]
     },
     "execution_count": 38,
     "metadata": {},
     "output_type": "execute_result"
    }
   ],
   "source": [
    "inc.head()"
   ]
  },
  {
   "cell_type": "code",
   "execution_count": 39,
   "id": "9e1da444",
   "metadata": {},
   "outputs": [
    {
     "data": {
      "text/html": [
       "<div>\n",
       "<style scoped>\n",
       "    .dataframe tbody tr th:only-of-type {\n",
       "        vertical-align: middle;\n",
       "    }\n",
       "\n",
       "    .dataframe tbody tr th {\n",
       "        vertical-align: top;\n",
       "    }\n",
       "\n",
       "    .dataframe thead th {\n",
       "        text-align: right;\n",
       "    }\n",
       "</style>\n",
       "<table border=\"1\" class=\"dataframe\">\n",
       "  <thead>\n",
       "    <tr style=\"text-align: right;\">\n",
       "      <th></th>\n",
       "      <th>Entity</th>\n",
       "      <th>Code</th>\n",
       "      <th>Year</th>\n",
       "      <th>Age Group</th>\n",
       "      <th>Deaths</th>\n",
       "    </tr>\n",
       "  </thead>\n",
       "  <tbody>\n",
       "    <tr>\n",
       "      <th>0</th>\n",
       "      <td>Afghanistan</td>\n",
       "      <td>AFG</td>\n",
       "      <td>1990</td>\n",
       "      <td>Under 5</td>\n",
       "      <td>184.606435</td>\n",
       "    </tr>\n",
       "    <tr>\n",
       "      <th>1</th>\n",
       "      <td>Afghanistan</td>\n",
       "      <td>AFG</td>\n",
       "      <td>1991</td>\n",
       "      <td>Under 5</td>\n",
       "      <td>191.658193</td>\n",
       "    </tr>\n",
       "    <tr>\n",
       "      <th>2</th>\n",
       "      <td>Afghanistan</td>\n",
       "      <td>AFG</td>\n",
       "      <td>1992</td>\n",
       "      <td>Under 5</td>\n",
       "      <td>197.140197</td>\n",
       "    </tr>\n",
       "    <tr>\n",
       "      <th>3</th>\n",
       "      <td>Afghanistan</td>\n",
       "      <td>AFG</td>\n",
       "      <td>1993</td>\n",
       "      <td>Under 5</td>\n",
       "      <td>207.357753</td>\n",
       "    </tr>\n",
       "    <tr>\n",
       "      <th>4</th>\n",
       "      <td>Afghanistan</td>\n",
       "      <td>AFG</td>\n",
       "      <td>1994</td>\n",
       "      <td>Under 5</td>\n",
       "      <td>226.209363</td>\n",
       "    </tr>\n",
       "  </tbody>\n",
       "</table>\n",
       "</div>"
      ],
      "text/plain": [
       "        Entity Code  Year Age Group      Deaths\n",
       "0  Afghanistan  AFG  1990   Under 5  184.606435\n",
       "1  Afghanistan  AFG  1991   Under 5  191.658193\n",
       "2  Afghanistan  AFG  1992   Under 5  197.140197\n",
       "3  Afghanistan  AFG  1993   Under 5  207.357753\n",
       "4  Afghanistan  AFG  1994   Under 5  226.209363"
      ]
     },
     "execution_count": 39,
     "metadata": {},
     "output_type": "execute_result"
    }
   ],
   "source": [
    "deathsage.head()"
   ]
  },
  {
   "cell_type": "code",
   "execution_count": 40,
   "id": "908be045",
   "metadata": {},
   "outputs": [
    {
     "data": {
      "text/html": [
       "<div>\n",
       "<style scoped>\n",
       "    .dataframe tbody tr th:only-of-type {\n",
       "        vertical-align: middle;\n",
       "    }\n",
       "\n",
       "    .dataframe tbody tr th {\n",
       "        vertical-align: top;\n",
       "    }\n",
       "\n",
       "    .dataframe thead th {\n",
       "        text-align: right;\n",
       "    }\n",
       "</style>\n",
       "<table border=\"1\" class=\"dataframe\">\n",
       "  <thead>\n",
       "    <tr style=\"text-align: right;\">\n",
       "      <th></th>\n",
       "      <th>Entity</th>\n",
       "      <th>Code</th>\n",
       "      <th>Year</th>\n",
       "      <th>Deaths per 100K</th>\n",
       "    </tr>\n",
       "  </thead>\n",
       "  <tbody>\n",
       "    <tr>\n",
       "      <th>0</th>\n",
       "      <td>Afghanistan</td>\n",
       "      <td>AFG</td>\n",
       "      <td>1990</td>\n",
       "      <td>6.802930</td>\n",
       "    </tr>\n",
       "    <tr>\n",
       "      <th>1</th>\n",
       "      <td>Afghanistan</td>\n",
       "      <td>AFG</td>\n",
       "      <td>1991</td>\n",
       "      <td>6.973494</td>\n",
       "    </tr>\n",
       "    <tr>\n",
       "      <th>2</th>\n",
       "      <td>Afghanistan</td>\n",
       "      <td>AFG</td>\n",
       "      <td>1992</td>\n",
       "      <td>6.989882</td>\n",
       "    </tr>\n",
       "    <tr>\n",
       "      <th>3</th>\n",
       "      <td>Afghanistan</td>\n",
       "      <td>AFG</td>\n",
       "      <td>1993</td>\n",
       "      <td>7.088983</td>\n",
       "    </tr>\n",
       "    <tr>\n",
       "      <th>4</th>\n",
       "      <td>Afghanistan</td>\n",
       "      <td>AFG</td>\n",
       "      <td>1994</td>\n",
       "      <td>7.392472</td>\n",
       "    </tr>\n",
       "  </tbody>\n",
       "</table>\n",
       "</div>"
      ],
      "text/plain": [
       "        Entity Code  Year  Deaths per 100K\n",
       "0  Afghanistan  AFG  1990         6.802930\n",
       "1  Afghanistan  AFG  1991         6.973494\n",
       "2  Afghanistan  AFG  1992         6.989882\n",
       "3  Afghanistan  AFG  1993         7.088983\n",
       "4  Afghanistan  AFG  1994         7.392472"
      ]
     },
     "execution_count": 40,
     "metadata": {},
     "output_type": "execute_result"
    }
   ],
   "source": [
    "deaths.head()"
   ]
  },
  {
   "cell_type": "code",
   "execution_count": 41,
   "id": "ee0dea79",
   "metadata": {},
   "outputs": [],
   "source": [
    "deathsage[\"Age Group\"] = deathsage[\"Age Group\"].astype(str)"
   ]
  },
  {
   "cell_type": "markdown",
   "id": "7daa7e90",
   "metadata": {},
   "source": [
    "# Data Preprocessing"
   ]
  },
  {
   "cell_type": "code",
   "execution_count": 42,
   "id": "0fdfaf38",
   "metadata": {},
   "outputs": [],
   "source": [
    "import os\n",
    "if os.path.isfile(\"sgh.db\"):\n",
    "    os.remove(\"sgh.db\")"
   ]
  },
  {
   "cell_type": "code",
   "execution_count": 43,
   "id": "4e02a5d6",
   "metadata": {},
   "outputs": [],
   "source": [
    "from sqlalchemy import create_engine\n",
    "db = create_engine(\"sqlite:///sgh.db\")\n",
    "conn = db.connect()"
   ]
  },
  {
   "cell_type": "code",
   "execution_count": 44,
   "id": "4e752bdc",
   "metadata": {},
   "outputs": [],
   "source": [
    "inc.to_sql(\"inc\", conn)\n",
    "deathsage.to_sql(\"deathsage\", conn)\n",
    "deaths.to_sql(\"deaths\", conn)"
   ]
  },
  {
   "cell_type": "code",
   "execution_count": 45,
   "id": "74f33f64",
   "metadata": {},
   "outputs": [
    {
     "name": "stdout",
     "output_type": "stream",
     "text": [
      "The sql extension is already loaded. To reload it, use:\n",
      "  %reload_ext sql\n"
     ]
    }
   ],
   "source": [
    "%load_ext sql"
   ]
  },
  {
   "cell_type": "code",
   "execution_count": 46,
   "id": "84362638",
   "metadata": {},
   "outputs": [],
   "source": [
    "%sql sqlite:///sgh.db"
   ]
  },
  {
   "cell_type": "markdown",
   "id": "448caaca",
   "metadata": {},
   "source": [
    "## Visualization 1"
   ]
  },
  {
   "cell_type": "markdown",
   "id": "b4874974",
   "metadata": {},
   "source": [
    "From the World Health Organization (WHO) Newroom, malaria is a life-threatening disease caused by parasites that are transmitted to people through the bites of infected female Anopheles mosquitoes. Even though this disease is preventable and curable, the WHO African region carries a disproportionately high share of the global malaria burden. Out of which, four African countries accounted for just over half of all malaria deaths worldwide: Nigeria (31.9%), the Democratic Republic of the Congo (13.2%), Tanzania (4.1%) and Mozambique (3.8%). The following visualization serves to investigate the distribution of deaths across the years in these 4 countries."
   ]
  },
  {
   "cell_type": "code",
   "execution_count": 47,
   "id": "fa15a2f8",
   "metadata": {},
   "outputs": [
    {
     "name": "stdout",
     "output_type": "stream",
     "text": [
      " * sqlite:///sgh.db\n",
      "Done.\n"
     ]
    },
    {
     "data": {
      "text/html": [
       "<div>\n",
       "<style scoped>\n",
       "    .dataframe tbody tr th:only-of-type {\n",
       "        vertical-align: middle;\n",
       "    }\n",
       "\n",
       "    .dataframe tbody tr th {\n",
       "        vertical-align: top;\n",
       "    }\n",
       "\n",
       "    .dataframe thead th {\n",
       "        text-align: right;\n",
       "    }\n",
       "</style>\n",
       "<table border=\"1\" class=\"dataframe\">\n",
       "  <thead>\n",
       "    <tr style=\"text-align: right;\">\n",
       "      <th></th>\n",
       "      <th>Entity</th>\n",
       "      <th>Code</th>\n",
       "      <th>Year</th>\n",
       "      <th>Age Group</th>\n",
       "      <th>Deaths</th>\n",
       "    </tr>\n",
       "  </thead>\n",
       "  <tbody>\n",
       "    <tr>\n",
       "      <th>0</th>\n",
       "      <td>Democratic Republic of Congo</td>\n",
       "      <td>COD</td>\n",
       "      <td>1990</td>\n",
       "      <td>Under 5</td>\n",
       "      <td>63737.689219</td>\n",
       "    </tr>\n",
       "    <tr>\n",
       "      <th>1</th>\n",
       "      <td>Democratic Republic of Congo</td>\n",
       "      <td>COD</td>\n",
       "      <td>1991</td>\n",
       "      <td>Under 5</td>\n",
       "      <td>66188.445300</td>\n",
       "    </tr>\n",
       "    <tr>\n",
       "      <th>2</th>\n",
       "      <td>Democratic Republic of Congo</td>\n",
       "      <td>COD</td>\n",
       "      <td>1992</td>\n",
       "      <td>Under 5</td>\n",
       "      <td>67660.347067</td>\n",
       "    </tr>\n",
       "    <tr>\n",
       "      <th>3</th>\n",
       "      <td>Democratic Republic of Congo</td>\n",
       "      <td>COD</td>\n",
       "      <td>1993</td>\n",
       "      <td>Under 5</td>\n",
       "      <td>69705.791513</td>\n",
       "    </tr>\n",
       "    <tr>\n",
       "      <th>4</th>\n",
       "      <td>Democratic Republic of Congo</td>\n",
       "      <td>COD</td>\n",
       "      <td>1994</td>\n",
       "      <td>Under 5</td>\n",
       "      <td>71423.732469</td>\n",
       "    </tr>\n",
       "  </tbody>\n",
       "</table>\n",
       "</div>"
      ],
      "text/plain": [
       "                         Entity Code  Year Age Group        Deaths\n",
       "0  Democratic Republic of Congo  COD  1990   Under 5  63737.689219\n",
       "1  Democratic Republic of Congo  COD  1991   Under 5  66188.445300\n",
       "2  Democratic Republic of Congo  COD  1992   Under 5  67660.347067\n",
       "3  Democratic Republic of Congo  COD  1993   Under 5  69705.791513\n",
       "4  Democratic Republic of Congo  COD  1994   Under 5  71423.732469"
      ]
     },
     "execution_count": 47,
     "metadata": {},
     "output_type": "execute_result"
    }
   ],
   "source": [
    "result1 = %sql SELECT * FROM deathsage WHERE Entity=\"Nigeria\" OR Entity = \"Mozambique\" OR Entity = \"Democratic Republic of Congo\" OR Entity = \"Tanzania\"\n",
    "data1 = result1.DataFrame().iloc[:,1:]\n",
    "data1.head()"
   ]
  },
  {
   "cell_type": "code",
   "execution_count": 48,
   "id": "ea63d28a",
   "metadata": {},
   "outputs": [],
   "source": [
    "from plotnine import *"
   ]
  },
  {
   "cell_type": "code",
   "execution_count": 49,
   "id": "a46cccb5",
   "metadata": {
    "scrolled": true
   },
   "outputs": [
    {
     "data": {
      "image/png": "[encoded data removed]",
      "text/plain": [
       "<Figure size 640x480 with 1 Axes>"
      ]
     },
     "metadata": {},
     "output_type": "display_data"
    },
    {
     "data": {
      "text/plain": [
       "<ggplot: (8783053073869)>"
      ]
     },
     "execution_count": 49,
     "metadata": {},
     "output_type": "execute_result"
    }
   ],
   "source": [
    "(\n",
    "    ggplot(aes(x = 'Year', weight = 'Deaths', fill = 'Age Group'), data1) + \n",
    "    ylab(\"Deaths\") + \n",
    "    geom_bar() + \n",
    "    scale_fill_discrete(breaks=['Under 5', '5-14', '15-49', '50-69', '70 or older'])\n",
    ")"
   ]
  },
  {
   "cell_type": "markdown",
   "id": "3fc70627",
   "metadata": {},
   "source": [
    "Children under 5 years of age account for most of the malaria deaths in the 4 countries, with an average of about 300,000 deaths per year. As such, the total number of deaths in the 4 countries closely follows the trend of deaths of children under 5.\n",
    "\n",
    "One reason for this disproportionately large number of deaths in children under 5 is because they have not yet developed immunity to defend themselves against the disease. This can be seen from the graph above, where the number of deaths decrease with age, regardless of year. These countries also do not have sophisticated medical equipments to care for children who have contracted malaria. And the tropical climate of the region provides conducive breeding grounds for mosquitoes.\n",
    "\n",
    "Measures like providing better healthcare facilities, educating young parents on detecting symptoms of malaria in their children and controlling the mosquito population by spraying insecticide, will all contribute to lowering the number of deaths in children under 5 and also an overall lower number of malaria deaths in these 4 countries."
   ]
  },
  {
   "cell_type": "markdown",
   "id": "70b804df",
   "metadata": {},
   "source": [
    "## Visualization 2"
   ]
  },
  {
   "cell_type": "code",
   "execution_count": 50,
   "id": "c95b0c0d",
   "metadata": {},
   "outputs": [
    {
     "name": "stdout",
     "output_type": "stream",
     "text": [
      " * sqlite:///sgh.db\n",
      "Done.\n"
     ]
    }
   ],
   "source": [
    "result2 = %sql SELECT * FROM inc\n",
    "data2 = result2.DataFrame().iloc[:,1:]"
   ]
  },
  {
   "cell_type": "code",
   "execution_count": 51,
   "id": "d6ec5a2d",
   "metadata": {},
   "outputs": [
    {
     "data": {
      "text/html": [
       "<div>\n",
       "<style scoped>\n",
       "    .dataframe tbody tr th:only-of-type {\n",
       "        vertical-align: middle;\n",
       "    }\n",
       "\n",
       "    .dataframe tbody tr th {\n",
       "        vertical-align: top;\n",
       "    }\n",
       "\n",
       "    .dataframe thead th {\n",
       "        text-align: right;\n",
       "    }\n",
       "</style>\n",
       "<table border=\"1\" class=\"dataframe\">\n",
       "  <thead>\n",
       "    <tr style=\"text-align: right;\">\n",
       "      <th></th>\n",
       "      <th>country</th>\n",
       "      <th>code_2</th>\n",
       "      <th>code_3</th>\n",
       "      <th>country_code</th>\n",
       "      <th>iso_3166_2</th>\n",
       "      <th>continent</th>\n",
       "      <th>sub_region</th>\n",
       "      <th>region_code</th>\n",
       "      <th>sub_region_code</th>\n",
       "    </tr>\n",
       "  </thead>\n",
       "  <tbody>\n",
       "    <tr>\n",
       "      <th>0</th>\n",
       "      <td>Afghanistan</td>\n",
       "      <td>AF</td>\n",
       "      <td>AFG</td>\n",
       "      <td>4</td>\n",
       "      <td>ISO 3166-2:AF</td>\n",
       "      <td>Asia</td>\n",
       "      <td>Southern Asia</td>\n",
       "      <td>142.0</td>\n",
       "      <td>34.0</td>\n",
       "    </tr>\n",
       "    <tr>\n",
       "      <th>1</th>\n",
       "      <td>Åland Islands</td>\n",
       "      <td>AX</td>\n",
       "      <td>ALA</td>\n",
       "      <td>248</td>\n",
       "      <td>ISO 3166-2:AX</td>\n",
       "      <td>Europe</td>\n",
       "      <td>Northern Europe</td>\n",
       "      <td>150.0</td>\n",
       "      <td>154.0</td>\n",
       "    </tr>\n",
       "    <tr>\n",
       "      <th>2</th>\n",
       "      <td>Albania</td>\n",
       "      <td>AL</td>\n",
       "      <td>ALB</td>\n",
       "      <td>8</td>\n",
       "      <td>ISO 3166-2:AL</td>\n",
       "      <td>Europe</td>\n",
       "      <td>Southern Europe</td>\n",
       "      <td>150.0</td>\n",
       "      <td>39.0</td>\n",
       "    </tr>\n",
       "    <tr>\n",
       "      <th>3</th>\n",
       "      <td>Algeria</td>\n",
       "      <td>DZ</td>\n",
       "      <td>DZA</td>\n",
       "      <td>12</td>\n",
       "      <td>ISO 3166-2:DZ</td>\n",
       "      <td>Africa</td>\n",
       "      <td>Northern Africa</td>\n",
       "      <td>2.0</td>\n",
       "      <td>15.0</td>\n",
       "    </tr>\n",
       "    <tr>\n",
       "      <th>4</th>\n",
       "      <td>American Samoa</td>\n",
       "      <td>AS</td>\n",
       "      <td>ASM</td>\n",
       "      <td>16</td>\n",
       "      <td>ISO 3166-2:AS</td>\n",
       "      <td>Oceania</td>\n",
       "      <td>Polynesia</td>\n",
       "      <td>9.0</td>\n",
       "      <td>61.0</td>\n",
       "    </tr>\n",
       "  </tbody>\n",
       "</table>\n",
       "</div>"
      ],
      "text/plain": [
       "          country code_2 code_3  country_code     iso_3166_2 continent  \\\n",
       "0     Afghanistan     AF    AFG             4  ISO 3166-2:AF      Asia   \n",
       "1   Åland Islands     AX    ALA           248  ISO 3166-2:AX    Europe   \n",
       "2         Albania     AL    ALB             8  ISO 3166-2:AL    Europe   \n",
       "3         Algeria     DZ    DZA            12  ISO 3166-2:DZ    Africa   \n",
       "4  American Samoa     AS    ASM            16  ISO 3166-2:AS   Oceania   \n",
       "\n",
       "        sub_region  region_code  sub_region_code  \n",
       "0    Southern Asia        142.0             34.0  \n",
       "1  Northern Europe        150.0            154.0  \n",
       "2  Southern Europe        150.0             39.0  \n",
       "3  Northern Africa          2.0             15.0  \n",
       "4        Polynesia          9.0             61.0  "
      ]
     },
     "execution_count": 51,
     "metadata": {},
     "output_type": "execute_result"
    }
   ],
   "source": [
    "continents = pd.read_csv(\"continents.csv\", encoding=\"ISO-8859-1\")\n",
    "continents.head()"
   ]
  },
  {
   "cell_type": "code",
   "execution_count": 52,
   "id": "1aa48500",
   "metadata": {},
   "outputs": [],
   "source": [
    "data21 = data2.merge(continents, how=\"left\", left_on=\"Code\", right_on=\"code_3\")\n",
    "data21 = data21.drop([\"country\", \"Code\"], axis=1)"
   ]
  },
  {
   "cell_type": "code",
   "execution_count": 53,
   "id": "f9112b47",
   "metadata": {},
   "outputs": [
    {
     "data": {
      "text/html": [
       "<div>\n",
       "<style scoped>\n",
       "    .dataframe tbody tr th:only-of-type {\n",
       "        vertical-align: middle;\n",
       "    }\n",
       "\n",
       "    .dataframe tbody tr th {\n",
       "        vertical-align: top;\n",
       "    }\n",
       "\n",
       "    .dataframe thead th {\n",
       "        text-align: right;\n",
       "    }\n",
       "</style>\n",
       "<table border=\"1\" class=\"dataframe\">\n",
       "  <thead>\n",
       "    <tr style=\"text-align: right;\">\n",
       "      <th></th>\n",
       "      <th>Entity</th>\n",
       "      <th>Year</th>\n",
       "      <th>Incidence of malaria</th>\n",
       "      <th>code_2</th>\n",
       "      <th>code_3</th>\n",
       "      <th>country_code</th>\n",
       "      <th>iso_3166_2</th>\n",
       "      <th>continent</th>\n",
       "      <th>sub_region</th>\n",
       "      <th>region_code</th>\n",
       "      <th>sub_region_code</th>\n",
       "    </tr>\n",
       "  </thead>\n",
       "  <tbody>\n",
       "    <tr>\n",
       "      <th>0</th>\n",
       "      <td>Afghanistan</td>\n",
       "      <td>2000</td>\n",
       "      <td>107.100000</td>\n",
       "      <td>AF</td>\n",
       "      <td>AFG</td>\n",
       "      <td>4.0</td>\n",
       "      <td>ISO 3166-2:AF</td>\n",
       "      <td>Asia</td>\n",
       "      <td>Southern Asia</td>\n",
       "      <td>142.0</td>\n",
       "      <td>34.0</td>\n",
       "    </tr>\n",
       "    <tr>\n",
       "      <th>1</th>\n",
       "      <td>Afghanistan</td>\n",
       "      <td>2005</td>\n",
       "      <td>46.500000</td>\n",
       "      <td>AF</td>\n",
       "      <td>AFG</td>\n",
       "      <td>4.0</td>\n",
       "      <td>ISO 3166-2:AF</td>\n",
       "      <td>Asia</td>\n",
       "      <td>Southern Asia</td>\n",
       "      <td>142.0</td>\n",
       "      <td>34.0</td>\n",
       "    </tr>\n",
       "    <tr>\n",
       "      <th>2</th>\n",
       "      <td>Afghanistan</td>\n",
       "      <td>2010</td>\n",
       "      <td>23.900000</td>\n",
       "      <td>AF</td>\n",
       "      <td>AFG</td>\n",
       "      <td>4.0</td>\n",
       "      <td>ISO 3166-2:AF</td>\n",
       "      <td>Asia</td>\n",
       "      <td>Southern Asia</td>\n",
       "      <td>142.0</td>\n",
       "      <td>34.0</td>\n",
       "    </tr>\n",
       "    <tr>\n",
       "      <th>3</th>\n",
       "      <td>Afghanistan</td>\n",
       "      <td>2015</td>\n",
       "      <td>23.600000</td>\n",
       "      <td>AF</td>\n",
       "      <td>AFG</td>\n",
       "      <td>4.0</td>\n",
       "      <td>ISO 3166-2:AF</td>\n",
       "      <td>Asia</td>\n",
       "      <td>Southern Asia</td>\n",
       "      <td>142.0</td>\n",
       "      <td>34.0</td>\n",
       "    </tr>\n",
       "    <tr>\n",
       "      <th>4</th>\n",
       "      <td>Algeria</td>\n",
       "      <td>2000</td>\n",
       "      <td>0.037746</td>\n",
       "      <td>DZ</td>\n",
       "      <td>DZA</td>\n",
       "      <td>12.0</td>\n",
       "      <td>ISO 3166-2:DZ</td>\n",
       "      <td>Africa</td>\n",
       "      <td>Northern Africa</td>\n",
       "      <td>2.0</td>\n",
       "      <td>15.0</td>\n",
       "    </tr>\n",
       "  </tbody>\n",
       "</table>\n",
       "</div>"
      ],
      "text/plain": [
       "        Entity  Year  Incidence of malaria code_2 code_3  country_code  \\\n",
       "0  Afghanistan  2000            107.100000     AF    AFG           4.0   \n",
       "1  Afghanistan  2005             46.500000     AF    AFG           4.0   \n",
       "2  Afghanistan  2010             23.900000     AF    AFG           4.0   \n",
       "3  Afghanistan  2015             23.600000     AF    AFG           4.0   \n",
       "4      Algeria  2000              0.037746     DZ    DZA          12.0   \n",
       "\n",
       "      iso_3166_2 continent       sub_region  region_code  sub_region_code  \n",
       "0  ISO 3166-2:AF      Asia    Southern Asia        142.0             34.0  \n",
       "1  ISO 3166-2:AF      Asia    Southern Asia        142.0             34.0  \n",
       "2  ISO 3166-2:AF      Asia    Southern Asia        142.0             34.0  \n",
       "3  ISO 3166-2:AF      Asia    Southern Asia        142.0             34.0  \n",
       "4  ISO 3166-2:DZ    Africa  Northern Africa          2.0             15.0  "
      ]
     },
     "execution_count": 53,
     "metadata": {},
     "output_type": "execute_result"
    }
   ],
   "source": [
    "is_NaN = data21.isnull()\n",
    "row_has_NaN = is_NaN.any(axis=1)\n",
    "data21 = data21[-(row_has_NaN)]\n",
    "data21.head()"
   ]
  },
  {
   "cell_type": "code",
   "execution_count": 54,
   "id": "f64bd901",
   "metadata": {},
   "outputs": [
    {
     "data": {
      "image/png": "[encoded data removed]",
      "text/plain": [
       "<Figure size 640x480 with 1 Axes>"
      ]
     },
     "metadata": {},
     "output_type": "display_data"
    },
    {
     "data": {
      "text/plain": [
       "<ggplot: (8783053073848)>"
      ]
     },
     "execution_count": 54,
     "metadata": {},
     "output_type": "execute_result"
    }
   ],
   "source": [
    "(\n",
    "    ggplot(aes(x='Year', y='Incidence of malaria', color='continent'), data21) + \n",
    "    geom_point() + \n",
    "    geom_smooth(aes(fill=\"continent\"), method='lm')\n",
    ")"
   ]
  },
  {
   "cell_type": "markdown",
   "id": "f5c77c11",
   "metadata": {},
   "source": [
    "I extended the dataset by adding the respective continent of each country and plotted a scatter plot with a linear regression line and standard error band.\n",
    "\n",
    "African countries generally have a higher incidence of malaria, with a relatively small standard error band which indicates that there is not much variation between the countries. This corresponds with Africa shouldering the highest malaria burden.\n",
    "\n",
    "Oceania countries have the largest standard error band but also the steepest regression line, which translates to the largest decrease of incidences of malaria over 15 years.\n",
    "\n",
    "The Americas and Asia have relatively low incidences of malaria, possibly due to socio-economic factors."
   ]
  },
  {
   "cell_type": "markdown",
   "id": "3a0b8376",
   "metadata": {},
   "source": [
    "## Visualization 3"
   ]
  },
  {
   "cell_type": "code",
   "execution_count": 55,
   "id": "2d5eb568",
   "metadata": {
    "scrolled": true
   },
   "outputs": [
    {
     "name": "stdout",
     "output_type": "stream",
     "text": [
      " * sqlite:///sgh.db\n",
      "Done.\n"
     ]
    },
    {
     "data": {
      "text/html": [
       "<div>\n",
       "<style scoped>\n",
       "    .dataframe tbody tr th:only-of-type {\n",
       "        vertical-align: middle;\n",
       "    }\n",
       "\n",
       "    .dataframe tbody tr th {\n",
       "        vertical-align: top;\n",
       "    }\n",
       "\n",
       "    .dataframe thead th {\n",
       "        text-align: right;\n",
       "    }\n",
       "</style>\n",
       "<table border=\"1\" class=\"dataframe\">\n",
       "  <thead>\n",
       "    <tr style=\"text-align: right;\">\n",
       "      <th></th>\n",
       "      <th>Entity</th>\n",
       "      <th>Code</th>\n",
       "      <th>Year</th>\n",
       "      <th>Deaths per 100K</th>\n",
       "    </tr>\n",
       "  </thead>\n",
       "  <tbody>\n",
       "    <tr>\n",
       "      <th>0</th>\n",
       "      <td>High SDI</td>\n",
       "      <td>None</td>\n",
       "      <td>1990</td>\n",
       "      <td>0.001387</td>\n",
       "    </tr>\n",
       "    <tr>\n",
       "      <th>1</th>\n",
       "      <td>High SDI</td>\n",
       "      <td>None</td>\n",
       "      <td>1991</td>\n",
       "      <td>0.001280</td>\n",
       "    </tr>\n",
       "    <tr>\n",
       "      <th>2</th>\n",
       "      <td>High SDI</td>\n",
       "      <td>None</td>\n",
       "      <td>1992</td>\n",
       "      <td>0.001165</td>\n",
       "    </tr>\n",
       "    <tr>\n",
       "      <th>3</th>\n",
       "      <td>High SDI</td>\n",
       "      <td>None</td>\n",
       "      <td>1993</td>\n",
       "      <td>0.001075</td>\n",
       "    </tr>\n",
       "    <tr>\n",
       "      <th>4</th>\n",
       "      <td>High SDI</td>\n",
       "      <td>None</td>\n",
       "      <td>1994</td>\n",
       "      <td>0.001005</td>\n",
       "    </tr>\n",
       "  </tbody>\n",
       "</table>\n",
       "</div>"
      ],
      "text/plain": [
       "     Entity  Code  Year  Deaths per 100K\n",
       "0  High SDI  None  1990         0.001387\n",
       "1  High SDI  None  1991         0.001280\n",
       "2  High SDI  None  1992         0.001165\n",
       "3  High SDI  None  1993         0.001075\n",
       "4  High SDI  None  1994         0.001005"
      ]
     },
     "execution_count": 55,
     "metadata": {},
     "output_type": "execute_result"
    }
   ],
   "source": [
    "result3 = %sql SELECT * FROM deaths WHERE Entity LIKE '%SDI' OR Code = \"OWID_WRL\";\n",
    "data3 = result3.DataFrame().iloc[:,1:]\n",
    "data3.head()"
   ]
  },
  {
   "cell_type": "code",
   "execution_count": 56,
   "id": "65c97de0",
   "metadata": {},
   "outputs": [],
   "source": [
    "data3['Entity'] = data3['Entity'].astype('category')\n",
    "data3['Entity'] = data3['Entity'].cat.reorder_categories(['World', 'Low SDI', 'Low-middle SDI', 'Middle SDI', 'High-middle SDI', 'High SDI'])"
   ]
  },
  {
   "cell_type": "code",
   "execution_count": 57,
   "id": "4fcedfb0",
   "metadata": {},
   "outputs": [
    {
     "data": {
      "image/png": "[encoded data removed]",
      "text/plain": [
       "<Figure size 640x480 with 1 Axes>"
      ]
     },
     "metadata": {},
     "output_type": "display_data"
    },
    {
     "data": {
      "text/plain": [
       "<ggplot: (8783052542627)>"
      ]
     },
     "execution_count": 57,
     "metadata": {},
     "output_type": "execute_result"
    }
   ],
   "source": [
    "(\n",
    "    ggplot() + \n",
    "    geom_line(aes(x='Year', y='Deaths per 100K', color =\"Entity\"), data3)\n",
    ")"
   ]
  },
  {
   "cell_type": "markdown",
   "id": "25fc128a",
   "metadata": {},
   "source": [
    "Socio-demographic Index (SDI) was a new metric created to measure development of a country. The index captures vital aspects of development like income and education.\n",
    "\n",
    "Much of African countries fall into the low to low-middle SDI category, and show a corresponding high number of deaths per 100,000 people. It is noted that there is a rapid decrease in the death rate of low SDI countries from 2003 onwards. This may be attributed to the deployment of control methods in African countries.\n",
    "\n",
    "The number of deaths per 100,000 people from Middle, high-middle and high SDI countries fall well below the global average and has remained relatively constant over the years. Factors like employment, access to education and healthcare play a key role in keeping malaria death rates low."
   ]
  },
  {
   "cell_type": "code",
   "execution_count": null,
   "id": "dc7360cd",
   "metadata": {},
   "outputs": [],
   "source": []
  }
 ],
 "metadata": {
  "kernelspec": {
   "display_name": "Python 3 (ipykernel)",
   "language": "python",
   "name": "python3"
  },
  "language_info": {
   "codemirror_mode": {
    "name": "ipython",
    "version": 3
   },
   "file_extension": ".py",
   "mimetype": "text/x-python",
   "name": "python",
   "nbconvert_exporter": "python",
   "pygments_lexer": "ipython3",
   "version": "3.8.3"
  }
 },
 "nbformat": 4,
 "nbformat_minor": 5
}
